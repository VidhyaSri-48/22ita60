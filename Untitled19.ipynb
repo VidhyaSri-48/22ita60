{
  "nbformat": 4,
  "nbformat_minor": 0,
  "metadata": {
    "colab": {
      "provenance": [],
      "authorship_tag": "ABX9TyMDFxFhYHjkQIg7EY6ymL/l",
      "include_colab_link": true
    },
    "kernelspec": {
      "name": "python3",
      "display_name": "Python 3"
    },
    "language_info": {
      "name": "python"
    }
  },
  "cells": [
    {
      "cell_type": "markdown",
      "metadata": {
        "id": "view-in-github",
        "colab_type": "text"
      },
      "source": [
        "<a href=\"https://colab.research.google.com/github/VidhyaSri-48/22ita60/blob/master/Untitled19.ipynb\" target=\"_parent\"><img src=\"https://colab.research.google.com/assets/colab-badge.svg\" alt=\"Open In Colab\"/></a>"
      ]
    },
    {
      "cell_type": "code",
      "execution_count": 5,
      "metadata": {
        "colab": {
          "base_uri": "https://localhost:8080/"
        },
        "id": "JUHPX2SwomIG",
        "outputId": "279aab38-2dad-449f-d5ee-2458f0cd84bf"
      },
      "outputs": [
        {
          "output_type": "stream",
          "name": "stdout",
          "text": [
            "loan approaval: yes\n"
          ]
        }
      ],
      "source": [
        "from sklearn.tree import DecisionTreeClassifier\n",
        "#loal approve or not :| high_income = 2, Medium_income = 1, low_income = 0\n",
        "# good credit =1, bad credit = 0;\n",
        "a = [\n",
        "    [2, 1],\n",
        "    [2,0],\n",
        "    [0,1],\n",
        "    [1,1],\n",
        "    [0,0],\n",
        "    [1,0],\n",
        "     ]\n",
        "b = [1,0,0,1,0,1]\n",
        "\n",
        "model = DecisionTreeClassifier()\n",
        "model.fit(a,b)\n",
        "#high salary, bad credit\n",
        "predicts = model.predict([[2,1]])\n",
        "print(\"loan approaval:\",\"yes\" if predicts[0]==1 else \"no\")"
      ]
    }
  ]
}